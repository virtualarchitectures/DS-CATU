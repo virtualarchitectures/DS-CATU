{
 "cells": [
  {
   "cell_type": "markdown",
   "metadata": {},
   "source": [
    "# RTB Determination Analysis"
   ]
  },
  {
   "cell_type": "code",
   "execution_count": null,
   "metadata": {},
   "outputs": [],
   "source": [
    "import os\n",
    "import pandas as pd\n",
    "from dateutil import parser\n",
    "import matplotlib.pyplot as plt"
   ]
  },
  {
   "cell_type": "code",
   "execution_count": null,
   "metadata": {},
   "outputs": [],
   "source": [
    "# Directory containing CSV files\n",
    "folder_path = \"../data/summary\""
   ]
  },
  {
   "cell_type": "code",
   "execution_count": null,
   "metadata": {},
   "outputs": [],
   "source": [
    "# Initialize an empty list to store DataFrames\n",
    "dfs = []\n",
    "\n",
    "# Loop through each file in the directory\n",
    "for filename in os.listdir(folder_path):\n",
    "    if filename.endswith(\".csv\"):\n",
    "        file_path = os.path.join(folder_path, filename)\n",
    "        \n",
    "        # Read CSV file into a DataFrame\n",
    "        df = pd.read_csv(file_path)\n",
    "        \n",
    "        # Append DataFrame to the list\n",
    "        dfs.append(df)\n",
    "\n",
    "# Concatenate all DataFrames in the list\n",
    "combined_df = pd.concat(dfs, ignore_index=True)\n",
    "\n",
    "# Save the combined DataFrame to a new CSV file\n",
    "combined_df.to_csv(\"../data/case_metadata_combined.csv\", index=False)"
   ]
  },
  {
   "cell_type": "code",
   "execution_count": null,
   "metadata": {},
   "outputs": [],
   "source": [
    "combined_df.head()"
   ]
  },
  {
   "cell_type": "code",
   "execution_count": null,
   "metadata": {},
   "outputs": [],
   "source": [
    "combined_df.info()"
   ]
  },
  {
   "cell_type": "code",
   "execution_count": null,
   "metadata": {},
   "outputs": [],
   "source": [
    "# Exclude rows with NaN values in the \"DR No.\" column\n",
    "combined_df = combined_df.dropna(subset=[\"DR No.\"])\n",
    "\n",
    "# Find rows with duplicate values in the \"TR No.\" column\n",
    "duplicate_dr_df = combined_df[combined_df.duplicated(subset=\"DR No.\", keep=False)]\n",
    "\n",
    "# Display the DataFrame with duplicate rows\n",
    "duplicate_dr_df"
   ]
  },
  {
   "cell_type": "code",
   "execution_count": null,
   "metadata": {},
   "outputs": [],
   "source": [
    "# Exclude rows with NaN values in the \"TR No.\" column\n",
    "combined_df = combined_df.dropna(subset=[\"TR No.\"])\n",
    "\n",
    "# Find rows with duplicate values in the \"TR No.\" column\n",
    "duplicate_tr_df = combined_df[combined_df.duplicated(subset=\"TR No.\", keep=False)]\n",
    "\n",
    "# Display the DataFrame with duplicate rows\n",
    "duplicate_tr_df"
   ]
  },
  {
   "cell_type": "code",
   "execution_count": null,
   "metadata": {},
   "outputs": [],
   "source": [
    "# Parse \"Upload Date\" column using dateutil.parser\n",
    "combined_df[\"Upload Date\"] = combined_df[\"Upload Date\"].apply(lambda x: parser.parse(x).strftime(\"%d/%m/%Y\"))\n",
    "combined_df.info()"
   ]
  },
  {
   "cell_type": "code",
   "execution_count": null,
   "metadata": {},
   "outputs": [],
   "source": [
    "# Calculate counts of non-null and null values for each column\n",
    "non_null_counts = combined_df.notnull().sum()\n",
    "null_counts = combined_df.isnull().sum()\n",
    "\n",
    "# Plotting\n",
    "plt.figure(figsize=(10, 6))\n",
    "non_null_counts.plot(kind=\"bar\", color=\"skyblue\", label=\"Populated\")\n",
    "null_counts.plot(kind=\"bar\", bottom=non_null_counts, color=\"orange\", label=\"Null\")\n",
    "plt.title(\"Populated vs Null Values for Each Column\")\n",
    "plt.xlabel(\"Columns\")\n",
    "plt.ylabel(\"Count\")\n",
    "plt.xticks(rotation=45, ha=\"right\")\n",
    "plt.legend()\n",
    "plt.tight_layout()\n",
    "plt.show()"
   ]
  },
  {
   "cell_type": "code",
   "execution_count": null,
   "metadata": {},
   "outputs": [],
   "source": [
    "combined_df.head()"
   ]
  },
  {
   "cell_type": "code",
   "execution_count": null,
   "metadata": {},
   "outputs": [],
   "source": [
    "# Count unique values and total values for each column\n",
    "unique_counts = combined_df.nunique()\n",
    "total_counts = combined_df.count()\n",
    "\n",
    "# Combine both counts into a single DataFrame\n",
    "counts_df = pd.DataFrame({\"Total Values\": total_counts, \"Unique Values\": unique_counts})\n",
    "\n",
    "print(\"Count of unique and total values for each column:\")\n",
    "print(counts_df)"
   ]
  },
  {
   "cell_type": "code",
   "execution_count": null,
   "metadata": {},
   "outputs": [],
   "source": [
    "# Plotting\n",
    "colors = [\"skyblue\", \"orange\"]\n",
    "counts_df.plot(kind=\"bar\", figsize=(10, 6), color=colors)\n",
    "plt.title(\"Count of Total and Unique Values for Each Column\")\n",
    "plt.xlabel(\"Columns\")\n",
    "plt.ylabel(\"Count\")\n",
    "plt.xticks(rotation=45)\n",
    "plt.legend(title=\"Counts\", loc=\"upper right\")\n",
    "plt.show()"
   ]
  },
  {
   "cell_type": "code",
   "execution_count": null,
   "metadata": {},
   "outputs": [],
   "source": [
    "# Group by \"Upload Date\" and count the number of uploads for each date\n",
    "uploads_over_time = combined_df.groupby(\"Upload Date\").size()\n",
    "\n",
    "# Plotting\n",
    "plt.figure(figsize=(10, 6))\n",
    "uploads_over_time.plot()\n",
    "plt.title(\"Uploads Over Time\")\n",
    "plt.xlabel(\"Date\")\n",
    "plt.ylabel(\"Number of Uploads\")\n",
    "plt.grid(True)\n",
    "plt.show()"
   ]
  },
  {
   "cell_type": "code",
   "execution_count": null,
   "metadata": {},
   "outputs": [],
   "source": [
    "# Calculate frequency counts for the \"Subject\" column\n",
    "subject_counts = combined_df[\"Subject\"].value_counts()\n",
    "\n",
    "# Display frequency counts for the \"Subject\" column\n",
    "print(\"Frequency counts for the Subject column:\")\n",
    "print(subject_counts)\n"
   ]
  },
  {
   "cell_type": "code",
   "execution_count": null,
   "metadata": {},
   "outputs": [],
   "source": [
    "# Select top twenty subjects\n",
    "top_twenty_subjects = subject_counts.head(10)\n",
    "\n",
    "# Plotting\n",
    "plt.figure(figsize=(10, 6))\n",
    "top_twenty_subjects.plot(kind=\"bar\")\n",
    "plt.title(\"Top Ten Subjects\")\n",
    "plt.xlabel(\"Subjects\")\n",
    "plt.ylabel(\"Frequency\")\n",
    "plt.xticks(rotation=45, ha=\"right\")\n",
    "plt.tight_layout()\n",
    "plt.show()\n"
   ]
  },
  {
   "cell_type": "code",
   "execution_count": null,
   "metadata": {},
   "outputs": [],
   "source": []
  }
 ],
 "metadata": {
  "kernelspec": {
   "display_name": "DS-CATU",
   "language": "python",
   "name": "python3"
  },
  "language_info": {
   "codemirror_mode": {
    "name": "ipython",
    "version": 3
   },
   "file_extension": ".py",
   "mimetype": "text/x-python",
   "name": "python",
   "nbconvert_exporter": "python",
   "pygments_lexer": "ipython3",
   "version": "3.8.19"
  }
 },
 "nbformat": 4,
 "nbformat_minor": 2
}
