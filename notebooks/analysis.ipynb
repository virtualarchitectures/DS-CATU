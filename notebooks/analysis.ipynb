{
 "cells": [
  {
   "cell_type": "markdown",
   "metadata": {},
   "source": [
    "# RTB Determination Analysis"
   ]
  },
  {
   "cell_type": "code",
   "execution_count": null,
   "metadata": {},
   "outputs": [],
   "source": [
    "import os\n",
    "import pandas as pd\n",
    "from dateutil import parser\n",
    "import matplotlib.pyplot as plt"
   ]
  },
  {
   "cell_type": "code",
   "execution_count": null,
   "metadata": {},
   "outputs": [],
   "source": [
    "# File path\n",
    "file_path = \"../data/summary/determination_details.csv\""
   ]
  },
  {
   "cell_type": "markdown",
   "metadata": {},
   "source": [
    "## View and Summarise Loaded Data"
   ]
  },
  {
   "cell_type": "code",
   "execution_count": null,
   "metadata": {},
   "outputs": [],
   "source": [
    "combined_df.head()"
   ]
  },
  {
   "cell_type": "code",
   "execution_count": null,
   "metadata": {},
   "outputs": [],
   "source": [
    "combined_df.info()"
   ]
  },
  {
   "cell_type": "markdown",
   "metadata": {},
   "source": [
    "## View Duplicate Cases"
   ]
  },
  {
   "cell_type": "code",
   "execution_count": null,
   "metadata": {},
   "outputs": [],
   "source": [
    "# Identify duplicate rows\n",
    "duplicate_rows = combined_df[combined_df.duplicated(keep=False)]\n",
    "\n",
    "# Count duplicate rows\n",
    "num_duplicates = duplicate_rows.shape[0]\n",
    "\n",
    "# Display count of duplicate rows\n",
    "print(\"Number of Duplicate Rows:\", num_duplicates)\n",
    "\n",
    "# Display dataframe\n",
    "duplicate_rows"
   ]
  },
  {
   "cell_type": "markdown",
   "metadata": {},
   "source": [
    "## View Duplicate Determination Orders by ID"
   ]
  },
  {
   "cell_type": "code",
   "execution_count": null,
   "metadata": {},
   "outputs": [],
   "source": [
    "# Exclude rows with NaN values in the \"DR No.\" column\n",
    "duplicate_dr_df = combined_df.dropna(subset=[\"DR No.\"])\n",
    "\n",
    "# Find rows with duplicate values in the \"TR No.\" column\n",
    "duplicate_dr_df = duplicate_dr_df[duplicate_dr_df.duplicated(subset=\"DR No.\", keep=False)]\n",
    "\n",
    "# Count duplicate rows\n",
    "num_duplicates = duplicate_dr_df.shape[0]\n",
    "\n",
    "# Display count of duplicate rows\n",
    "print(\"Number of Duplicate Rows:\", num_duplicates)\n",
    "\n",
    "# Display the DataFrame with duplicate rows\n",
    "duplicate_dr_df"
   ]
  },
  {
   "cell_type": "markdown",
   "metadata": {},
   "source": [
    "## View Duplicate Tribunal Orders by ID"
   ]
  },
  {
   "cell_type": "code",
   "execution_count": null,
   "metadata": {},
   "outputs": [],
   "source": [
    "# Exclude rows with NaN values in the \"TR No.\" column\n",
    "duplicate_tr_df = combined_df.dropna(subset=[\"TR No.\"])\n",
    "\n",
    "# Find rows with duplicate values in the \"TR No.\" column\n",
    "duplicate_tr_df = duplicate_tr_df[duplicate_tr_df.duplicated(subset=\"TR No.\", keep=False)]\n",
    "\n",
    "# Count duplicate rows\n",
    "num_duplicates = duplicate_tr_df.shape[0]\n",
    "\n",
    "# Display count of duplicate rows\n",
    "print(\"Number of Duplicate Rows:\", num_duplicates)\n",
    "\n",
    "# Display the DataFrame with duplicate rows\n",
    "duplicate_tr_df"
   ]
  },
  {
   "cell_type": "markdown",
   "metadata": {},
   "source": [
    "## Format Date Columns"
   ]
  },
  {
   "cell_type": "code",
   "execution_count": null,
   "metadata": {},
   "outputs": [],
   "source": [
    "# Parse \"Upload Date\" column using dateutil.parser\n",
    "combined_df[\"Upload Date\"] = combined_df[\"Upload Date\"].apply(lambda x: parser.parse(x).strftime(\"%d/%m/%Y\"))\n",
    "# Convert to datetime\n",
    "combined_df[\"Upload Date\"] = pd.to_datetime(combined_df[\"Upload Date\"], format=\"%d/%m/%Y\")\n",
    "combined_df.info()"
   ]
  },
  {
   "cell_type": "code",
   "execution_count": null,
   "metadata": {},
   "outputs": [],
   "source": [
    "combined_df.head()"
   ]
  },
  {
   "cell_type": "markdown",
   "metadata": {},
   "source": [
    "## Visualise Populated VS Null Values"
   ]
  },
  {
   "cell_type": "code",
   "execution_count": null,
   "metadata": {},
   "outputs": [],
   "source": [
    "# Calculate counts of non-null and null values for each column\n",
    "non_null_counts = combined_df.notnull().sum()\n",
    "null_counts = combined_df.isnull().sum()\n",
    "\n",
    "# Plotting\n",
    "plt.figure(figsize=(10, 6))\n",
    "non_null_counts.plot(kind=\"bar\", color=\"skyblue\", label=\"Populated\")\n",
    "null_counts.plot(kind=\"bar\", bottom=non_null_counts, color=\"orange\", label=\"Null\")\n",
    "plt.title(\"Populated vs Null Values for Each Column\")\n",
    "plt.xlabel(\"Columns\")\n",
    "plt.ylabel(\"Count\")\n",
    "plt.xticks(rotation=45, ha=\"right\")\n",
    "plt.legend()\n",
    "plt.tight_layout()\n",
    "plt.show()"
   ]
  },
  {
   "cell_type": "markdown",
   "metadata": {},
   "source": [
    "## Visualise Unique Values by Colum"
   ]
  },
  {
   "cell_type": "code",
   "execution_count": null,
   "metadata": {},
   "outputs": [],
   "source": [
    "# Count unique values and total values for each column\n",
    "unique_counts = combined_df.nunique()\n",
    "total_counts = combined_df.count()\n",
    "\n",
    "# Combine both counts into a single DataFrame\n",
    "counts_df = pd.DataFrame({\"Total Values\": total_counts, \"Unique Values\": unique_counts})\n",
    "\n",
    "print(\"Count of unique and total values for each column:\")\n",
    "print(counts_df)"
   ]
  },
  {
   "cell_type": "code",
   "execution_count": null,
   "metadata": {},
   "outputs": [],
   "source": [
    "# Plotting\n",
    "colors = [\"skyblue\", \"orange\"]\n",
    "counts_df.plot(kind=\"bar\", figsize=(10, 6), color=colors)\n",
    "plt.title(\"Count of Total and Unique Values for Each Column\")\n",
    "plt.xlabel(\"Columns\")\n",
    "plt.ylabel(\"Count\")\n",
    "plt.xticks(rotation=45)\n",
    "plt.legend(title=\"Counts\", loc=\"upper right\")\n",
    "plt.show()"
   ]
  },
  {
   "cell_type": "markdown",
   "metadata": {},
   "source": [
    "## Visualise Cases by Type and Year"
   ]
  },
  {
   "cell_type": "code",
   "execution_count": null,
   "metadata": {},
   "outputs": [],
   "source": [
    "# Filter rows for adjudication cases and tribunal cases\n",
    "adjudication_cases = combined_df[(combined_df['DR No.'].notnull()) & (combined_df['TR No.'].isnull())]\n",
    "tribunal_cases = combined_df[(combined_df['TR No.'].notnull())]\n",
    "\n",
    "# Extract year from 'Upload Date' column\n",
    "adjudication_cases['Year'] = adjudication_cases['Upload Date'].dt.year\n",
    "tribunal_cases['Year'] = tribunal_cases['Upload Date'].dt.year\n",
    "\n",
    "# Count the number of cases by year\n",
    "adjudication_counts = adjudication_cases['Year'].value_counts().sort_index()\n",
    "tribunal_counts = tribunal_cases['Year'].value_counts().sort_index()\n",
    "\n",
    "# Create a DataFrame to display the counts\n",
    "data = {'Adjudication Cases': adjudication_counts, 'Tribunal Cases': tribunal_counts}\n",
    "case_counts_df = pd.DataFrame(data)\n",
    "\n",
    "# Fill NaN values with 0\n",
    "case_counts_df = case_counts_df.fillna(0)\n",
    "\n",
    "# Display the table\n",
    "print(\"Number of Adjudication and Tribunal Cases by Year:\")\n",
    "print(case_counts_df)"
   ]
  },
  {
   "cell_type": "code",
   "execution_count": null,
   "metadata": {},
   "outputs": [],
   "source": [
    "\n",
    "# Plotting\n",
    "plt.figure(figsize=(10, 6))\n",
    "adjudication_counts.plot(kind='bar', color='skyblue', width=0.4, position=0, label='Adjudication Cases')\n",
    "tribunal_counts.plot(kind='bar', color='orange', width=0.4, position=1, label='Tribunal Cases')\n",
    "plt.title('Number of Adjudication and Tribunal Cases by Year')\n",
    "plt.xlabel('Year')\n",
    "plt.ylabel('Number of Cases')\n",
    "plt.legend()\n",
    "plt.xticks(rotation=45)\n",
    "plt.tight_layout()\n",
    "plt.show()"
   ]
  },
  {
   "cell_type": "markdown",
   "metadata": {},
   "source": [
    "## Visualise Case Uploads Over Time"
   ]
  },
  {
   "cell_type": "code",
   "execution_count": null,
   "metadata": {},
   "outputs": [],
   "source": [
    "# Group by \"Upload Date\" and count the number of uploads for each date\n",
    "uploads_over_time = combined_df.groupby(\"Upload Date\").size()\n",
    "\n",
    "# Plotting\n",
    "plt.figure(figsize=(10, 6))\n",
    "uploads_over_time.plot(color=\"skyblue\")\n",
    "plt.title(\"Uploads Over Time\")\n",
    "plt.xlabel(\"Date\")\n",
    "plt.ylabel(\"Number of Uploads\")\n",
    "plt.grid(True)\n",
    "plt.show()"
   ]
  },
  {
   "cell_type": "markdown",
   "metadata": {},
   "source": [
    "## Visualise Cases by Subject"
   ]
  },
  {
   "cell_type": "code",
   "execution_count": null,
   "metadata": {},
   "outputs": [],
   "source": [
    "# Calculate frequency counts for the \"Subject\" column\n",
    "subject_counts = combined_df[\"Subject\"].value_counts()\n",
    "\n",
    "# Display frequency counts for the \"Subject\" column\n",
    "print(\"Frequency counts for the Subject column:\")\n",
    "print(subject_counts)\n"
   ]
  },
  {
   "cell_type": "code",
   "execution_count": null,
   "metadata": {},
   "outputs": [],
   "source": [
    "import textwrap\n",
    "\n",
    "# Select top twenty subjects\n",
    "top_twenty_subjects = subject_counts.head(10)\n",
    "\n",
    "# Plotting\n",
    "plt.figure(figsize=(10, 6))\n",
    "ax = top_twenty_subjects.plot(kind=\"bar\", color=\"skyblue\")\n",
    "plt.title(\"Top Ten RTB Case Subjects\")\n",
    "plt.ylabel(\"Frequency\")\n",
    "plt.xticks(rotation=45, ha=\"right\")\n",
    "\n",
    "# Enable word wrapping for x-labels\n",
    "wrapper = textwrap.TextWrapper(width=30)  # Adjust the width as needed\n",
    "ax.set_xticklabels([wrapper.fill(text) for text in top_twenty_subjects.index])\n",
    "\n",
    "plt.tight_layout()\n",
    "plt.show()\n"
   ]
  },
  {
   "cell_type": "code",
   "execution_count": null,
   "metadata": {},
   "outputs": [],
   "source": []
  }
 ],
 "metadata": {
  "kernelspec": {
   "display_name": "DS-CATU",
   "language": "python",
   "name": "python3"
  },
  "language_info": {
   "codemirror_mode": {
    "name": "ipython",
    "version": 3
   },
   "file_extension": ".py",
   "mimetype": "text/x-python",
   "name": "python",
   "nbconvert_exporter": "python",
   "pygments_lexer": "ipython3",
   "version": "3.8.19"
  }
 },
 "nbformat": 4,
 "nbformat_minor": 2
}
